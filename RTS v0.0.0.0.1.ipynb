{
 "cells": [
  {
   "cell_type": "code",
   "execution_count": 2,
   "metadata": {},
   "outputs": [],
   "source": [
    "class Vehicle:\n",
    "    types = [\"Sedan\", \"Truck\", \"Motorcycle\"]\n",
    "    # Super-class of car, TBI (to be implemented)"
   ]
  },
  {
   "cell_type": "code",
   "execution_count": 3,
   "metadata": {},
   "outputs": [],
   "source": [
    "class Car:\n",
    "    speed = 0.0\n",
    "    location = [0.0, 0.0]\n",
    "    max_speed = 10\n",
    "    max_acc = 0.5\n",
    "    \n",
    "    def __init__(self, id, type, initialSpeed=0, initialLocation=0):\n",
    "        self.id = id\n",
    "        self.type = type\n",
    "        self.speed = initialSpeed\n",
    "        self.location = initialLocation"
   ]
  },
  {
   "cell_type": "code",
   "execution_count": 4,
   "metadata": {},
   "outputs": [],
   "source": [
    "class Driver:\n",
    "    aggression = 0.1\n",
    "    # Adds more functionality to Car class objects or vice versa, TBI"
   ]
  },
  {
   "cell_type": "code",
   "execution_count": 5,
   "metadata": {},
   "outputs": [],
   "source": [
    "class Lane:    \n",
    "    carsOnLane = {}\n",
    "    carPositions = []\n",
    "    \n",
    "    def __init__(self, length, parentRoad):\n",
    "        self.parentRoad = parentRoad\n",
    "        self.length = length\n",
    "        \n",
    "    def __str__(self):\n",
    "        strprt = \"\"\n",
    "        for car in self.carsOnLane:\n",
    "            strprt += car + \":\" + str(self.carsOnLane[car].location) + \"  \"\n",
    "        return strprt\n",
    "    \n",
    "    @classmethod\n",
    "    def addToLane(self, car, pos):\n",
    "        self.carsOnLane[car.id] = car\n",
    "        self.carPositions.append(pos)\n",
    "        \n",
    "    @classmethod\n",
    "    def isEmpty(self):\n",
    "        return True if not self.carsOnLane else False"
   ]
  },
  {
   "cell_type": "code",
   "execution_count": 6,
   "metadata": {},
   "outputs": [],
   "source": [
    "class Road:\n",
    "    lanes = list()\n",
    "    def __init__(self, laneCount):\n",
    "        self.lanes = self.generateLanes(laneCount)\n",
    "    \n",
    "    @classmethod\n",
    "    def generateLanes(self, laneCount):\n",
    "        for i in range(0,laneCount):\n",
    "            self.lanes.append(Lane(laneLength, self))"
   ]
  },
  {
   "cell_type": "code",
   "execution_count": 15,
   "metadata": {},
   "outputs": [],
   "source": [
    "# SimulationEngine should take Road object instead of Lane as parameter, TBI\n",
    "class SimulationEngine:\n",
    "    def __init__(self, lane):\n",
    "        self.lane = lane\n",
    "        self.cars = lane.carsOnLane\n",
    "        \n",
    "    def moveCars(self):\n",
    "        while(not self.lane.isEmpty()):\n",
    "            for key in self.cars.copy():\n",
    "                car = self.cars[key]\n",
    "                car.speed += car.max_acc\n",
    "                if (car.speed > car.max_speed):\n",
    "                    car.speed = car.max_speed\n",
    "                print(car.location)\n",
    "                car.location[0] += car.speed\n",
    "\n",
    "                print(self.lane)\n",
    "                if(car.location[0] > self.lane.length):\n",
    "                    self.lane.carsOnLane.pop(car.id)"
   ]
  },
  {
   "cell_type": "code",
   "execution_count": 16,
   "metadata": {},
   "outputs": [],
   "source": [
    "class LaneChanger:\n",
    "    dummy_var = 0"
   ]
  },
  {
   "cell_type": "code",
   "execution_count": 17,
   "metadata": {},
   "outputs": [
    {
     "name": "stdout",
     "output_type": "stream",
     "text": [
      "0\n"
     ]
    },
    {
     "ename": "TypeError",
     "evalue": "'int' object is not subscriptable",
     "output_type": "error",
     "traceback": [
      "\u001b[1;31m---------------------------------------------------------------------------\u001b[0m",
      "\u001b[1;31mTypeError\u001b[0m                                 Traceback (most recent call last)",
      "\u001b[1;32m<ipython-input-17-c7cd8ac786cd>\u001b[0m in \u001b[0;36m<module>\u001b[1;34m\u001b[0m\n\u001b[0;32m     10\u001b[0m \u001b[1;33m\u001b[0m\u001b[0m\n\u001b[0;32m     11\u001b[0m \u001b[0mmySimEngine\u001b[0m \u001b[1;33m=\u001b[0m \u001b[0mSimulationEngine\u001b[0m\u001b[1;33m(\u001b[0m\u001b[0mmyLane\u001b[0m\u001b[1;33m)\u001b[0m\u001b[1;33m\u001b[0m\u001b[1;33m\u001b[0m\u001b[0m\n\u001b[1;32m---> 12\u001b[1;33m \u001b[0mmySimEngine\u001b[0m\u001b[1;33m.\u001b[0m\u001b[0mmoveCars\u001b[0m\u001b[1;33m(\u001b[0m\u001b[1;33m)\u001b[0m\u001b[1;33m\u001b[0m\u001b[1;33m\u001b[0m\u001b[0m\n\u001b[0m",
      "\u001b[1;32m<ipython-input-15-0dddcf153484>\u001b[0m in \u001b[0;36mmoveCars\u001b[1;34m(self)\u001b[0m\n\u001b[0;32m     13\u001b[0m                     \u001b[0mcar\u001b[0m\u001b[1;33m.\u001b[0m\u001b[0mspeed\u001b[0m \u001b[1;33m=\u001b[0m \u001b[0mcar\u001b[0m\u001b[1;33m.\u001b[0m\u001b[0mmax_speed\u001b[0m\u001b[1;33m\u001b[0m\u001b[1;33m\u001b[0m\u001b[0m\n\u001b[0;32m     14\u001b[0m                 \u001b[0mprint\u001b[0m\u001b[1;33m(\u001b[0m\u001b[0mcar\u001b[0m\u001b[1;33m.\u001b[0m\u001b[0mlocation\u001b[0m\u001b[1;33m)\u001b[0m\u001b[1;33m\u001b[0m\u001b[1;33m\u001b[0m\u001b[0m\n\u001b[1;32m---> 15\u001b[1;33m                 \u001b[0mcar\u001b[0m\u001b[1;33m.\u001b[0m\u001b[0mlocation\u001b[0m\u001b[1;33m[\u001b[0m\u001b[1;36m0\u001b[0m\u001b[1;33m]\u001b[0m \u001b[1;33m+=\u001b[0m \u001b[0mcar\u001b[0m\u001b[1;33m.\u001b[0m\u001b[0mspeed\u001b[0m\u001b[1;33m\u001b[0m\u001b[1;33m\u001b[0m\u001b[0m\n\u001b[0m\u001b[0;32m     16\u001b[0m \u001b[1;33m\u001b[0m\u001b[0m\n\u001b[0;32m     17\u001b[0m                 \u001b[0mprint\u001b[0m\u001b[1;33m(\u001b[0m\u001b[0mself\u001b[0m\u001b[1;33m.\u001b[0m\u001b[0mlane\u001b[0m\u001b[1;33m)\u001b[0m\u001b[1;33m\u001b[0m\u001b[1;33m\u001b[0m\u001b[0m\n",
      "\u001b[1;31mTypeError\u001b[0m: 'int' object is not subscriptable"
     ]
    }
   ],
   "source": [
    "# myRoad = Road(3)\n",
    "# print(len(myRoad.lanes))\n",
    "\n",
    "myCar1 = Car(\"Sedan1\", \"Sedan\")\n",
    "myCar2 = Car(\"Sedan2\", \"Sedan\", 0, [5.0, 0.0])\n",
    "\n",
    "myLane = Lane(100, \"a\")\n",
    "myLane.addToLane(myCar1, myCar1.location)\n",
    "myLane.addToLane(myCar2, myCar2.location)\n",
    "\n",
    "mySimEngine = SimulationEngine(myLane)\n",
    "mySimEngine.moveCars()"
   ]
  },
  {
   "cell_type": "code",
   "execution_count": null,
   "metadata": {},
   "outputs": [],
   "source": []
  }
 ],
 "metadata": {
  "kernelspec": {
   "display_name": "Python 3",
   "language": "python",
   "name": "python3"
  },
  "language_info": {
   "codemirror_mode": {
    "name": "ipython",
    "version": 3
   },
   "file_extension": ".py",
   "mimetype": "text/x-python",
   "name": "python",
   "nbconvert_exporter": "python",
   "pygments_lexer": "ipython3",
   "version": "3.8.3"
  }
 },
 "nbformat": 4,
 "nbformat_minor": 4
}
