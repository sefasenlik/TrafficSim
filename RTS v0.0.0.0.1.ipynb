{
 "cells": [
  {
   "cell_type": "code",
   "execution_count": 18,
   "metadata": {},
   "outputs": [],
   "source": [
    "logFileName = \"car_log.txt\""
   ]
  },
  {
   "cell_type": "code",
   "execution_count": 19,
   "metadata": {},
   "outputs": [],
   "source": [
    "class Logger:\n",
    "    def __init__(self):\n",
    "        self.cars = list()\n",
    "    \n",
    "    def addCar(self, car):\n",
    "        self.cars.append(car)\n",
    "    \n",
    "    def outputToFile(self):\n",
    "        f = open(logFileName, \"w\")\n",
    "        \n",
    "        for car in self.cars:\n",
    "            locationStrList = list()\n",
    "            for loc in car.location_log:\n",
    "                locationStrList.append(str(loc[0]) + \",\" + str(loc[1]))\n",
    "            \n",
    "            line = str(car.id) + \" \"      \n",
    "            line += \" \".join(locationStrList) + \"\\n\"\n",
    "            f.write(line)\n",
    "            \n",
    "        f.close()"
   ]
  },
  {
   "cell_type": "code",
   "execution_count": 20,
   "metadata": {},
   "outputs": [],
   "source": [
    "class Vehicle:\n",
    "    types = [\"Sedan\", \"Truck\", \"Motorcycle\"]\n",
    "    # Super-class of car, TBI (to be implemented)"
   ]
  },
  {
   "cell_type": "code",
   "execution_count": 21,
   "metadata": {},
   "outputs": [],
   "source": [
    "class Car:\n",
    "    max_speed = 10\n",
    "    max_acc = 0.5\n",
    "    \n",
    "    def __init__(self, id, type, initialSpeed=0.0, initialLocation=[0.0, 0.0]):\n",
    "        self.id = id\n",
    "        self.type = type\n",
    "        self.speed = initialSpeed\n",
    "        self.location = initialLocation\n",
    "        self.location_log = list()\n",
    "        self.logPosition()\n",
    "        \n",
    "    def accelerate(self):\n",
    "        self.speed += self.max_acc\n",
    "        if (self.speed > self.max_speed):\n",
    "            self.speed = self.max_speed\n",
    "        self.location[0] += self.speed\n",
    "        self.logPosition()\n",
    "    \n",
    "    def logPosition(self):\n",
    "        self.location_log.append(list(self.location))"
   ]
  },
  {
   "cell_type": "code",
   "execution_count": 22,
   "metadata": {},
   "outputs": [],
   "source": [
    "class Driver:\n",
    "    aggression = 0.1\n",
    "    # Adds more functionality to Car class objects or vice versa, TBI"
   ]
  },
  {
   "cell_type": "code",
   "execution_count": 23,
   "metadata": {},
   "outputs": [],
   "source": [
    "class Lane:    \n",
    "    carsOnLane = {}\n",
    "    carPositions = []\n",
    "    \n",
    "    def __init__(self, length, parentRoad):\n",
    "        self.parentRoad = parentRoad\n",
    "        self.length = length\n",
    "        \n",
    "    def __str__(self):\n",
    "        strprt = \"\"\n",
    "        for car in self.carsOnLane:\n",
    "            strprt += car + \":\" + str(self.carsOnLane[car].location) + \"  \"\n",
    "        return strprt\n",
    "    \n",
    "    @classmethod\n",
    "    def addToLane(self, car, pos):\n",
    "        self.carsOnLane[car.id] = car\n",
    "        self.carPositions.append(pos)\n",
    "        \n",
    "    @classmethod\n",
    "    def isEmpty(self):\n",
    "        return True if not self.carsOnLane else False"
   ]
  },
  {
   "cell_type": "code",
   "execution_count": 24,
   "metadata": {},
   "outputs": [],
   "source": [
    "class Road:\n",
    "    lanes = list()\n",
    "    def __init__(self, laneCount):\n",
    "        self.lanes = self.generateLanes(laneCount)\n",
    "    \n",
    "    @classmethod\n",
    "    def generateLanes(self, laneCount):\n",
    "        for i in range(0,laneCount):\n",
    "            self.lanes.append(Lane(laneLength, self))"
   ]
  },
  {
   "cell_type": "code",
   "execution_count": 25,
   "metadata": {},
   "outputs": [],
   "source": [
    "# SimulationEngine should take Road object instead of Lane as parameter, TBI\n",
    "class SimulationEngine:\n",
    "    def __init__(self, lane):\n",
    "        self.lane = lane\n",
    "        self.cars = lane.carsOnLane\n",
    "        \n",
    "    def moveCars(self):\n",
    "        while(not self.lane.isEmpty()):\n",
    "            for key in self.cars.copy():\n",
    "                car = self.cars[key]\n",
    "                car.accelerate()\n",
    "\n",
    "                if(car.location[0] > self.lane.length):\n",
    "                    self.lane.carsOnLane.pop(car.id)\n",
    "            \n",
    "            print(self.lane)"
   ]
  },
  {
   "cell_type": "code",
   "execution_count": 26,
   "metadata": {},
   "outputs": [],
   "source": [
    "class LaneChanger:\n",
    "    dummy_var = 0"
   ]
  },
  {
   "cell_type": "code",
   "execution_count": 27,
   "metadata": {},
   "outputs": [
    {
     "name": "stdout",
     "output_type": "stream",
     "text": [
      "Sedan1:[4.5, 0.0]  Sedan2:[5.5, 0.0]  \n",
      "Sedan1:[9.5, 0.0]  Sedan2:[6.5, 0.0]  \n",
      "Sedan1:[15.0, 0.0]  Sedan2:[8.0, 0.0]  \n",
      "Sedan1:[21.0, 0.0]  Sedan2:[10.0, 0.0]  \n",
      "Sedan1:[27.5, 0.0]  Sedan2:[12.5, 0.0]  \n",
      "Sedan1:[34.5, 0.0]  Sedan2:[15.5, 0.0]  \n",
      "Sedan1:[42.0, 0.0]  Sedan2:[19.0, 0.0]  \n",
      "Sedan1:[50.0, 0.0]  Sedan2:[23.0, 0.0]  \n",
      "Sedan1:[58.5, 0.0]  Sedan2:[27.5, 0.0]  \n",
      "Sedan1:[67.5, 0.0]  Sedan2:[32.5, 0.0]  \n",
      "Sedan1:[77.0, 0.0]  Sedan2:[38.0, 0.0]  \n",
      "Sedan1:[87.0, 0.0]  Sedan2:[44.0, 0.0]  \n",
      "Sedan1:[97.0, 0.0]  Sedan2:[50.5, 0.0]  \n",
      "Sedan2:[57.5, 0.0]  \n",
      "Sedan2:[65.0, 0.0]  \n",
      "Sedan2:[73.0, 0.0]  \n",
      "Sedan2:[81.5, 0.0]  \n",
      "Sedan2:[90.5, 0.0]  \n",
      "Sedan2:[100.0, 0.0]  \n",
      "\n"
     ]
    }
   ],
   "source": [
    "# myRoad = Road(3)\n",
    "# print(len(myRoad.lanes))\n",
    "\n",
    "myCar1 = Car(\"Sedan1\", \"Sedan\", 4)\n",
    "myCar2 = Car(\"Sedan2\", \"Sedan\", 0, [5.0, 0.0])\n",
    "\n",
    "myLane = Lane(100, \"a\")\n",
    "myLane.addToLane(myCar1, myCar1.location)\n",
    "myLane.addToLane(myCar2, myCar2.location)\n",
    "\n",
    "mySimEngine = SimulationEngine(myLane)\n",
    "mySimEngine.moveCars()\n",
    "\n",
    "myLogger = Logger()\n",
    "myLogger.addCar(myCar1)\n",
    "myLogger.addCar(myCar2)\n",
    "myLogger.outputToFile()"
   ]
  },
  {
   "cell_type": "code",
   "execution_count": null,
   "metadata": {},
   "outputs": [],
   "source": []
  }
 ],
 "metadata": {
  "kernelspec": {
   "display_name": "Python 3",
   "language": "python",
   "name": "python3"
  },
  "language_info": {
   "codemirror_mode": {
    "name": "ipython",
    "version": 3
   },
   "file_extension": ".py",
   "mimetype": "text/x-python",
   "name": "python",
   "nbconvert_exporter": "python",
   "pygments_lexer": "ipython3",
   "version": "3.8.3"
  }
 },
 "nbformat": 4,
 "nbformat_minor": 4
}
